{
 "cells": [
  {
   "cell_type": "code",
   "execution_count": 1,
   "metadata": {},
   "outputs": [],
   "source": [
    "import pandas as pd\n",
    "import numpy as np\n",
    "import matplotlib.pyplot as plt\n",
    "import scipy as sp"
   ]
  },
  {
   "cell_type": "code",
   "execution_count": 48,
   "metadata": {},
   "outputs": [],
   "source": [
    "file = 'diabetes_data_preprocessed_dropped_duplicates_1.csv'\n",
    "df = pd.read_csv(file, sep=',')\n",
    "df = df.dropna()"
   ]
  },
  {
   "cell_type": "code",
   "execution_count": null,
   "metadata": {},
   "outputs": [],
   "source": []
  },
  {
   "cell_type": "code",
   "execution_count": 49,
   "metadata": {},
   "outputs": [
    {
     "data": {
      "text/plain": [
       "['gender',\n",
       " 'age',\n",
       " 'admission_type_id',\n",
       " 'discharge_disposition_id',\n",
       " 'admission_source_id',\n",
       " 'time_in_hospital',\n",
       " 'num_lab_procedures',\n",
       " 'num_procedures',\n",
       " 'num_medications',\n",
       " 'number_outpatient',\n",
       " 'number_emergency',\n",
       " 'number_inpatient',\n",
       " 'number_diagnoses',\n",
       " 'max_glu_serum',\n",
       " 'A1Cresult',\n",
       " 'metformin',\n",
       " 'repaglinide',\n",
       " 'nateglinide',\n",
       " 'chlorpropamide',\n",
       " 'glimepiride',\n",
       " 'acetohexamide',\n",
       " 'glipizide',\n",
       " 'glyburide',\n",
       " 'tolbutamide',\n",
       " 'pioglitazone',\n",
       " 'rosiglitazone',\n",
       " 'acarbose',\n",
       " 'miglitol',\n",
       " 'troglitazone',\n",
       " 'tolazamide',\n",
       " 'insulin',\n",
       " 'glyburide-metformin',\n",
       " 'glipizide-metformin',\n",
       " 'glimepiride-pioglitazone',\n",
       " 'metformin-rosiglitazone',\n",
       " 'metformin-pioglitazone',\n",
       " 'change',\n",
       " 'diabetesMed',\n",
       " 'service_utilization',\n",
       " 'numchange',\n",
       " 'nummed',\n",
       " 'level1_diag1',\n",
       " 'encounter_id_log1p',\n",
       " 'patient_nbr_log1p',\n",
       " 'gender_log1p',\n",
       " 'age_log',\n",
       " 'admission_type_id_log',\n",
       " 'discharge_disposition_id_log',\n",
       " 'admission_source_id_log',\n",
       " 'time_in_hospital_log1p',\n",
       " 'num_lab_procedures_log1p',\n",
       " 'num_procedures_log1p',\n",
       " 'num_medications_log1p',\n",
       " 'number_outpatient_log1p',\n",
       " 'number_emergency_log1p',\n",
       " 'number_inpatient_log1p',\n",
       " 'number_diagnoses_log',\n",
       " 'metformin_log1p',\n",
       " 'repaglinide_log1p',\n",
       " 'nateglinide_log1p',\n",
       " 'chlorpropamide_log1p',\n",
       " 'glimepiride_log1p',\n",
       " 'acetohexamide_log1p',\n",
       " 'glipizide_log1p',\n",
       " 'glyburide_log1p',\n",
       " 'tolbutamide_log1p',\n",
       " 'pioglitazone_log1p',\n",
       " 'rosiglitazone_log1p',\n",
       " 'acarbose_log1p',\n",
       " 'miglitol_log1p',\n",
       " 'troglitazone_log1p',\n",
       " 'tolazamide_log1p',\n",
       " 'insulin_log1p',\n",
       " 'glyburide-metformin_log1p',\n",
       " 'glipizide-metformin_log1p',\n",
       " 'glimepiride-pioglitazone_log1p',\n",
       " 'metformin-rosiglitazone_log1p',\n",
       " 'metformin-pioglitazone_log1p',\n",
       " 'change_log1p',\n",
       " 'diabetesMed_log1p',\n",
       " 'service_utilization_log1p',\n",
       " 'numchange_log1p',\n",
       " 'nummed_log1p',\n",
       " 'level1_diag1_log1p',\n",
       " 'race_AfricanAmerican',\n",
       " 'race_Asian',\n",
       " 'race_Caucasian',\n",
       " 'race_Hispanic',\n",
       " 'race_Other',\n",
       " 'payer_code_BC',\n",
       " 'payer_code_CH',\n",
       " 'payer_code_CM',\n",
       " 'payer_code_CP',\n",
       " 'payer_code_DM',\n",
       " 'payer_code_FR',\n",
       " 'payer_code_HM',\n",
       " 'payer_code_MC',\n",
       " 'payer_code_MD',\n",
       " 'payer_code_MP',\n",
       " 'payer_code_OG',\n",
       " 'payer_code_OT',\n",
       " 'payer_code_Other',\n",
       " 'payer_code_PO',\n",
       " 'payer_code_SI',\n",
       " 'payer_code_SP',\n",
       " 'payer_code_UN',\n",
       " 'payer_code_WC']"
      ]
     },
     "execution_count": 49,
     "metadata": {},
     "output_type": "execute_result"
    }
   ],
   "source": [
    "df1 =df.drop([df.columns[0],df.columns[1],df.columns[2]],axis=1)\n",
    "df1['service_utilization'] = df1['number_outpatient'] + df1['number_emergency'] + df1['number_inpatient']\n",
    "fs = list(df1.drop(['readmitted', 'readmitted_log1p'], axis=1))\n",
    "fs"
   ]
  },
  {
   "cell_type": "code",
   "execution_count": 50,
   "metadata": {},
   "outputs": [],
   "source": [
    "feature_set_1 = ['race',\n",
    " 'gender',\n",
    " 'age',\n",
    " 'admission_type_id',\n",
    " 'discharge_disposition_id',\n",
    " 'admission_source_id',\n",
    " 'time_in_hospital',\n",
    " 'num_lab_procedures',\n",
    " 'num_procedures',\n",
    " 'num_medications',\n",
    " 'number_outpatient',\n",
    " 'number_emergency',\n",
    " 'number_inpatient',\n",
    " 'diag_1',\n",
    " 'diag_2',\n",
    " 'diag_3',\n",
    " 'number_diagnoses',\n",
    " 'max_glu_serum',\n",
    " 'A1Cresult',\n",
    " 'metformin',\n",
    " 'repaglinide',\n",
    " 'nateglinide',\n",
    " 'chlorpropamide',\n",
    " 'glimepiride',\n",
    " 'acetohexamide',\n",
    " 'glipizide',\n",
    " 'glyburide',\n",
    " 'tolbutamide',\n",
    " 'pioglitazone',\n",
    " 'rosiglitazone',\n",
    " 'acarbose',\n",
    " 'miglitol',\n",
    " 'troglitazone',\n",
    " 'tolazamide',\n",
    " 'insulin',\n",
    " 'glyburide-metformin',\n",
    " 'glipizide-metformin',\n",
    " 'glimepiride-pioglitazone',\n",
    " 'metformin-rosiglitazone',\n",
    " 'metformin-pioglitazone',\n",
    " 'change',\n",
    " 'diabetesMed',\n",
    " 'service_utilization',\n",
    " 'numchange',\n",
    " 'nummed',\n",
    " 'level1_diag1',\n",
    " 'number_emergency_log',\n",
    " 'number_emergency_log1p',\n",
    " 'number_inpatient_log',\n",
    " 'number_inpatient_log1p',\n",
    " 'number_outpatient_log',\n",
    " 'number_outpatient_log1p',\n",
    " 'service_utilization_log',\n",
    " 'service_utilization_log1p',\n",
    " 'readmitted_log']\n"
   ]
  },
  {
   "cell_type": "code",
   "execution_count": 51,
   "metadata": {},
   "outputs": [
    {
     "data": {
      "text/plain": [
       "'\\nX_train, X_dev, Y_train, Y_dev = train_test_split(train_input,                                                   train_output,                                                   test_size=0.20,                                                   random_state=0)\\n'"
      ]
     },
     "execution_count": 51,
     "metadata": {},
     "output_type": "execute_result"
    }
   ],
   "source": [
    "# change feature set\n",
    "feature_set_2 = ['age', 'time_in_hospital', 'num_lab_procedures', 'num_procedures','change', 'service_utilization_log1p', 'number_diagnoses','num_medications','number_outpatient','number_emergency','number_inpatient']\n",
    "train_input = df1[feature_set_2]\n",
    "train_output = df1['readmitted']\n",
    "from sklearn.model_selection import train_test_split\n",
    "# shuffles, %80 training, %20 test\n",
    "'''\n",
    "X_train, X_dev, Y_train, Y_dev = train_test_split(train_input, \\\n",
    "                                                  train_output, \\\n",
    "                                                  test_size=0.20, \\\n",
    "                                                  random_state=0)\n",
    "'''"
   ]
  },
  {
   "cell_type": "code",
   "execution_count": 52,
   "metadata": {},
   "outputs": [],
   "source": [
    "########################################################"
   ]
  },
  {
   "cell_type": "code",
   "execution_count": null,
   "metadata": {},
   "outputs": [],
   "source": []
  },
  {
   "cell_type": "code",
   "execution_count": 53,
   "metadata": {},
   "outputs": [
    {
     "name": "stdout",
     "output_type": "stream",
     "text": [
      "Optimization terminated successfully.\n",
      "         Current function value: 0.329505\n",
      "         Iterations 6\n",
      "                           Logit Regression Results                           \n",
      "==============================================================================\n",
      "Dep. Variable:             readmitted   No. Observations:                40961\n",
      "Model:                          Logit   Df Residuals:                    40950\n",
      "Method:                           MLE   Df Model:                           10\n",
      "Date:                Tue, 03 Jul 2018   Pseudo R-squ.:                -0.04049\n",
      "Time:                        10:27:31   Log-Likelihood:                -13497.\n",
      "converged:                       True   LL-Null:                       -12972.\n",
      "                                        LLR p-value:                     1.000\n",
      "=============================================================================================\n",
      "                                coef    std err          z      P>|z|      [0.025      0.975]\n",
      "---------------------------------------------------------------------------------------------\n",
      "age                          -0.0201      0.001    -25.581      0.000      -0.022      -0.019\n",
      "time_in_hospital              0.0532      0.006      8.639      0.000       0.041       0.065\n",
      "num_lab_procedures           -0.0110      0.001    -13.504      0.000      -0.013      -0.009\n",
      "num_procedures               -0.0594      0.011     -5.373      0.000      -0.081      -0.038\n",
      "change                       -0.1119      0.034     -3.322      0.001      -0.178      -0.046\n",
      "service_utilization_log1p     0.2211      0.076      2.923      0.003       0.073       0.369\n",
      "number_diagnoses             -0.0865      0.008    -11.015      0.000      -0.102      -0.071\n",
      "num_medications              -0.0008      0.003     -0.304      0.761      -0.006       0.004\n",
      "number_outpatient            -0.0463      0.030     -1.567      0.117      -0.104       0.012\n",
      "number_emergency             -0.0453      0.035     -1.293      0.196      -0.114       0.023\n",
      "number_inpatient              0.2720      0.034      7.985      0.000       0.205       0.339\n",
      "=============================================================================================\n"
     ]
    }
   ],
   "source": [
    "###########################\n",
    "### Logistic regression ###\n",
    "###########################\n",
    "import statsmodels.api as sm\n",
    "from sklearn.model_selection import train_test_split\n",
    "\n",
    "X_train, X_dev, Y_train, Y_dev = train_test_split(train_input, \\\n",
    "                                                  train_output, \\\n",
    "                                                  test_size=0.20, \\\n",
    "                                                  random_state=0)\n",
    "logit = sm.Logit(Y_train, X_train)\n",
    "result = logit.fit()\n",
    "print(result.summary())"
   ]
  },
  {
   "cell_type": "code",
   "execution_count": 54,
   "metadata": {},
   "outputs": [
    {
     "name": "stdout",
     "output_type": "stream",
     "text": [
      "Cross Validation Score: 90.37%\n",
      "Dev Set score: 90.11%\n"
     ]
    }
   ],
   "source": [
    "# \n",
    "from sklearn.model_selection import train_test_split\n",
    "from sklearn.linear_model import LogisticRegression\n",
    "from sklearn.model_selection import cross_val_score\n",
    "\n",
    "X_train, X_dev, Y_train, Y_dev = train_test_split(train_input, train_output, test_size=0.20, random_state=0)\n",
    "logreg = LogisticRegression(fit_intercept=True, penalty='l1')\n",
    "print(\"Cross Validation Score: {:.2%}\".format(np.mean(cross_val_score(logreg, X_train, Y_train, cv=10))))\n",
    "logreg.fit(X_train, Y_train)\n",
    "print(\"Dev Set score: {:.2%}\".format(logreg.score(X_dev, Y_dev)))"
   ]
  },
  {
   "cell_type": "code",
   "execution_count": 55,
   "metadata": {},
   "outputs": [
    {
     "name": "stdout",
     "output_type": "stream",
     "text": [
      "Accuracy is 0.90\n",
      "Precision is 0.50\n",
      "Recall is 0.00\n",
      "AUC is 0.50\n"
     ]
    }
   ],
   "source": [
    "# Confusion matrix\n",
    "Y_dev_predict = logreg.predict(X_dev)\n",
    "pd.crosstab(pd.Series(Y_dev, name = 'Actual'), pd.Series(Y_dev_predict, name = 'Predict'), margins = True)\n",
    "\n",
    "from sklearn.metrics import accuracy_score, precision_score, recall_score, roc_auc_score\n",
    "print(\"Accuracy is {0:.2f}\".format(accuracy_score(Y_dev, Y_dev_predict)))\n",
    "print(\"Precision is {0:.2f}\".format(precision_score(Y_dev, Y_dev_predict)))\n",
    "print(\"Recall is {0:.2f}\".format(recall_score(Y_dev, Y_dev_predict)))\n",
    "print(\"AUC is {0:.2f}\".format(roc_auc_score(Y_dev, Y_dev_predict)))"
   ]
  },
  {
   "cell_type": "code",
   "execution_count": 56,
   "metadata": {},
   "outputs": [
    {
     "ename": "ImportError",
     "evalue": "No module named 'imblearn'",
     "output_type": "error",
     "traceback": [
      "\u001b[1;31m---------------------------------------------------------------------------\u001b[0m",
      "\u001b[1;31mImportError\u001b[0m                               Traceback (most recent call last)",
      "\u001b[1;32m<ipython-input-56-52d5a308e3d0>\u001b[0m in \u001b[0;36m<module>\u001b[1;34m()\u001b[0m\n\u001b[0;32m      4\u001b[0m \u001b[1;33m\u001b[0m\u001b[0m\n\u001b[0;32m      5\u001b[0m \u001b[1;31m# Data balancing applied using SMOTE\u001b[0m\u001b[1;33m\u001b[0m\u001b[1;33m\u001b[0m\u001b[0m\n\u001b[1;32m----> 6\u001b[1;33m \u001b[1;32mfrom\u001b[0m \u001b[0mimblearn\u001b[0m\u001b[1;33m.\u001b[0m\u001b[0mover_sampling\u001b[0m \u001b[1;32mimport\u001b[0m \u001b[0mSMOTE\u001b[0m\u001b[1;33m\u001b[0m\u001b[0m\n\u001b[0m\u001b[0;32m      7\u001b[0m \u001b[1;32mfrom\u001b[0m \u001b[0mcollections\u001b[0m \u001b[1;32mimport\u001b[0m \u001b[0mCounter\u001b[0m\u001b[1;33m\u001b[0m\u001b[0m\n\u001b[0;32m      8\u001b[0m \u001b[0mprint\u001b[0m\u001b[1;33m(\u001b[0m\u001b[1;34m'Original dataset shape {}'\u001b[0m\u001b[1;33m.\u001b[0m\u001b[0mformat\u001b[0m\u001b[1;33m(\u001b[0m\u001b[0mCounter\u001b[0m\u001b[1;33m(\u001b[0m\u001b[0mtrain_output\u001b[0m\u001b[1;33m)\u001b[0m\u001b[1;33m)\u001b[0m\u001b[1;33m)\u001b[0m\u001b[1;33m\u001b[0m\u001b[0m\n",
      "\u001b[1;31mImportError\u001b[0m: No module named 'imblearn'"
     ]
    }
   ],
   "source": [
    "##########################\n",
    "##### Decision Trees #####\n",
    "##########################\n",
    "\n",
    "# Data balancing applied using SMOTE\n",
    "from imblearn.over_sampling import SMOTE\n",
    "from collections import Counter\n",
    "print('Original dataset shape {}'.format(Counter(train_output)))\n",
    "\n",
    "smt = SMOTE(random_state=20)\n",
    "train_input_new, train_output_new = smt.fit_sample(train_input, train_output)\n",
    "print('New dataset shape {}'.format(Counter(train_output_new)))\n",
    "train_input_new = pd.DataFrame(train_input_new, columns = list(train_input.columns))\n",
    "X_train, X_dev, Y_train, Y_dev = train_test_split(train_input_new, train_output_new, test_size=0.20, random_state=0)\n"
   ]
  },
  {
   "cell_type": "code",
   "execution_count": 33,
   "metadata": {},
   "outputs": [
    {
     "name": "stdout",
     "output_type": "stream",
     "text": [
      "Cross Validation score: 86.96%\n",
      "Dev Set score: 86.95%\n"
     ]
    }
   ],
   "source": [
    "from sklearn.tree import DecisionTreeClassifier\n",
    "\n",
    "# Can change with gini\n",
    "# grid search?\n",
    "dte = DecisionTreeClassifier(max_depth=28, criterion = \"entropy\", min_samples_split=10)\n",
    "print(\"Cross Validation score: {:.2%}\".format(np.mean(cross_val_score(dte, X_train, Y_train, cv=10))))\n",
    "dte.fit(X_train, Y_train)\n",
    "print(\"Dev Set score: {:.2%}\".format(dte.score(X_dev, Y_dev)))"
   ]
  },
  {
   "cell_type": "code",
   "execution_count": 34,
   "metadata": {},
   "outputs": [
    {
     "name": "stdout",
     "output_type": "stream",
     "text": [
      "Accuracy is 0.87\n",
      "Precision is 0.11\n",
      "Recall is 0.06\n",
      "AUC is 0.51\n"
     ]
    }
   ],
   "source": [
    "Y_dev_predict = dte.predict(X_dev)\n",
    "pd.crosstab(pd.Series(Y_dev, name = 'Actual'), pd.Series(Y_dev_predict, name = 'Predict'), margins = True)\n",
    "from sklearn.metrics import accuracy_score, precision_score, recall_score, roc_auc_score\n",
    "print(\"Accuracy is {0:.2f}\".format(accuracy_score(Y_dev, Y_dev_predict)))\n",
    "print(\"Precision is {0:.2f}\".format(precision_score(Y_dev, Y_dev_predict)))\n",
    "print(\"Recall is {0:.2f}\".format(recall_score(Y_dev, Y_dev_predict)))\n",
    "print(\"AUC is {0:.2f}\".format(roc_auc_score(Y_dev, Y_dev_predict)))"
   ]
  },
  {
   "cell_type": "code",
   "execution_count": 35,
   "metadata": {},
   "outputs": [
    {
     "ename": "ImportError",
     "evalue": "No module named 'pydotplus'",
     "output_type": "error",
     "traceback": [
      "\u001b[1;31m---------------------------------------------------------------------------\u001b[0m",
      "\u001b[1;31mImportError\u001b[0m                               Traceback (most recent call last)",
      "\u001b[1;32m<ipython-input-35-eebc5685f35d>\u001b[0m in \u001b[0;36m<module>\u001b[1;34m()\u001b[0m\n\u001b[0;32m      1\u001b[0m \u001b[1;32mimport\u001b[0m \u001b[0mgraphviz\u001b[0m\u001b[1;33m\u001b[0m\u001b[0m\n\u001b[0;32m      2\u001b[0m \u001b[1;32mfrom\u001b[0m \u001b[0mIPython\u001b[0m\u001b[1;33m.\u001b[0m\u001b[0mdisplay\u001b[0m \u001b[1;32mimport\u001b[0m \u001b[0mImage\u001b[0m\u001b[1;33m\u001b[0m\u001b[0m\n\u001b[1;32m----> 3\u001b[1;33m \u001b[1;32mimport\u001b[0m \u001b[0mpydotplus\u001b[0m\u001b[1;33m\u001b[0m\u001b[0m\n\u001b[0m\u001b[0;32m      4\u001b[0m \u001b[1;32mfrom\u001b[0m \u001b[0msklearn\u001b[0m \u001b[1;32mimport\u001b[0m \u001b[0mtree\u001b[0m\u001b[1;33m\u001b[0m\u001b[0m\n\u001b[0;32m      5\u001b[0m \u001b[1;33m\u001b[0m\u001b[0m\n",
      "\u001b[1;31mImportError\u001b[0m: No module named 'pydotplus'"
     ]
    }
   ],
   "source": [
    "import graphviz\n",
    "from IPython.display import Image\n",
    "import pydotplus\n",
    "from sklearn import tree\n",
    "\n",
    "dot_dt_q2 = tree.export_graphviz(dte, out_file=\"dt_q2.dot\", feature_names=X_train.columns, max_depth=2, class_names=[\"No\",\"Readm\"], filled=True, rounded=True, special_characters=True)\n",
    "graph_dt_q2 = pydotplus.graph_from_dot_file('dt_q2.dot')\n",
    "Image(graph_dt_q2.create_png())"
   ]
  },
  {
   "cell_type": "code",
   "execution_count": null,
   "metadata": {},
   "outputs": [],
   "source": [
    "# Most important features\n",
    "# Shot top most features based on importance\n",
    "feature_names = X_train.columns\n",
    "feature_imports = dte.feature_importances_\n",
    "most_imp_features = pd.DataFrame([f for f in zip(feature_names,feature_imports)], columns=[\"Feature\", \"Importance\"]).nlargest(10, \"Importance\")\n",
    "most_imp_features.sort_values(by=\"Importance\", inplace=True)\n",
    "\n",
    "plt.figure(figsize=(10,6))\n",
    "plt.barh(range(len(most_imp_features)), most_imp_features.Importance, align='center', alpha=0.8)\n",
    "plt.yticks(range(len(most_imp_features)), most_imp_features.Feature, fontsize=14)\n",
    "plt.xlabel('Importance')\n",
    "plt.title('Most important features - Decision Tree (entropy) (Question 2 - complex model)')\n",
    "plt.show()"
   ]
  },
  {
   "cell_type": "code",
   "execution_count": null,
   "metadata": {},
   "outputs": [],
   "source": [
    "###########################\n",
    "###### Random Forest ######\n",
    "###########################\n",
    "\n",
    "from sklearn.ensemble import RandomForestClassifier"
   ]
  },
  {
   "cell_type": "code",
   "execution_count": null,
   "metadata": {},
   "outputs": [],
   "source": []
  }
 ],
 "metadata": {
  "kernelspec": {
   "display_name": "Python 3",
   "language": "python",
   "name": "python3"
  },
  "language_info": {
   "codemirror_mode": {
    "name": "ipython",
    "version": 3
   },
   "file_extension": ".py",
   "mimetype": "text/x-python",
   "name": "python",
   "nbconvert_exporter": "python",
   "pygments_lexer": "ipython3",
   "version": "3.5.4"
  }
 },
 "nbformat": 4,
 "nbformat_minor": 2
}
